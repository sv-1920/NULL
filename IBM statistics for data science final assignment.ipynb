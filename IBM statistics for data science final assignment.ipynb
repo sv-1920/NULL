{
 "cells": [
  {
   "cell_type": "code",
   "execution_count": 1,
   "metadata": {
    "execution": {
     "iopub.execute_input": "2021-02-02T08:31:36.788390Z",
     "iopub.status.busy": "2021-02-02T08:31:36.787788Z",
     "iopub.status.idle": "2021-02-02T08:31:38.799163Z",
     "shell.execute_reply": "2021-02-02T08:31:38.798007Z"
    },
    "papermill": {
     "duration": 2.035045,
     "end_time": "2021-02-02T08:31:38.799385",
     "exception": false,
     "start_time": "2021-02-02T08:31:36.764340",
     "status": "completed"
    },
    "tags": []
   },
   "outputs": [],
   "source": [
    "# Import all the Libraries required for the Data Analysis\n",
    "\n",
    "import warnings\n",
    "warnings.filterwarnings('ignore')\n",
    "\n",
    "import scipy.stats\n",
    "import pandas as pd\n",
    "import seaborn as sns\n",
    "import statsmodels.api as sm\n",
    "import matplotlib.pyplot as plt\n",
    "from sklearn.linear_model import LinearRegression\n"
   ]
  },
  {
   "cell_type": "code",
   "execution_count": 2,
   "metadata": {
    "execution": {
     "iopub.execute_input": "2021-02-02T08:31:38.838855Z",
     "iopub.status.busy": "2021-02-02T08:31:38.838267Z",
     "iopub.status.idle": "2021-02-02T08:31:40.553085Z",
     "shell.execute_reply": "2021-02-02T08:31:40.553510Z"
    },
    "papermill": {
     "duration": 1.738087,
     "end_time": "2021-02-02T08:31:40.553715",
     "exception": false,
     "start_time": "2021-02-02T08:31:38.815628",
     "status": "completed"
    },
    "tags": []
   },
   "outputs": [
    {
     "name": "stdout",
     "output_type": "stream",
     "text": [
      "0.4110442479509982\n",
      "[0.01289878]\n"
     ]
    },
    {
     "data": {
      "text/plain": [
       "(0.0, 0.8953)"
      ]
     },
     "execution_count": 2,
     "metadata": {},
     "output_type": "execute_result"
    },
    {
     "data": {
      "image/png": "[encoded data removed]",
      "text/plain": [
       "<Figure size 432x288 with 1 Axes>"
      ]
     },
     "metadata": {
      "needs_background": "light"
     },
     "output_type": "display_data"
    }
   ],
   "source": [
    "# Fetching the Data and converting the Data to a Dataframe for analysis purpose.\n",
    "boston_url = 'https://cf-courses-data.s3.us.cloud-object-storage.appdomain.cloud/IBMDeveloperSkillsNetwork-ST0151EN-SkillsNetwork/labs/boston_housing.csv'\n",
    "boston_df=pd.read_csv(boston_url)\n",
    "boston_df.head()\n",
    "\n",
    "X = boston_df[['INDUS']]\n",
    "Y = boston_df['NOX']\n",
    "\n",
    "lm = LinearRegression()\n",
    "\n",
    "lm.fit(X, Y)\n",
    "\n",
    "print(lm.intercept_)\n",
    "print(lm.coef_)\n",
    "\n",
    "Y_hat = lm.predict(X)\n",
    "\n",
    "Y_hat\n",
    "\n",
    "sns.regplot(x = \"INDUS\", y = \"NOX\", data = boston_df)\n",
    "plt.ylim(0,)\n",
    "\n",
    "\n"
   ]
  },
  {
   "cell_type": "code",
   "execution_count": 3,
   "metadata": {
    "execution": {
     "iopub.execute_input": "2021-02-02T08:31:40.591583Z",
     "iopub.status.busy": "2021-02-02T08:31:40.590981Z",
     "iopub.status.idle": "2021-02-02T08:31:40.608171Z",
     "shell.execute_reply": "2021-02-02T08:31:40.608706Z"
    },
    "papermill": {
     "duration": 0.037406,
     "end_time": "2021-02-02T08:31:40.608863",
     "exception": false,
     "start_time": "2021-02-02T08:31:40.571457",
     "status": "completed"
    },
    "scrolled": true,
    "tags": []
   },
   "outputs": [
    {
     "name": "stdout",
     "output_type": "stream",
     "text": [
      "<class 'pandas.core.frame.DataFrame'>\n",
      "RangeIndex: 506 entries, 0 to 505\n",
      "Data columns (total 14 columns):\n",
      " #   Column      Non-Null Count  Dtype  \n",
      "---  ------      --------------  -----  \n",
      " 0   Unnamed: 0  506 non-null    int64  \n",
      " 1   CRIM        506 non-null    float64\n",
      " 2   ZN          506 non-null    float64\n",
      " 3   INDUS       506 non-null    float64\n",
      " 4   CHAS        506 non-null    float64\n",
      " 5   NOX         506 non-null    float64\n",
      " 6   RM          506 non-null    float64\n",
      " 7   AGE         506 non-null    float64\n",
      " 8   DIS         506 non-null    float64\n",
      " 9   RAD         506 non-null    float64\n",
      " 10  TAX         506 non-null    float64\n",
      " 11  PTRATIO     506 non-null    float64\n",
      " 12  LSTAT       506 non-null    float64\n",
      " 13  MEDV        506 non-null    float64\n",
      "dtypes: float64(13), int64(1)\n",
      "memory usage: 55.5 KB\n"
     ]
    }
   ],
   "source": [
    "# Describe the info of the Dataset\n",
    "boston_df.info()"
   ]
  },
  {
   "cell_type": "code",
   "execution_count": 4,
   "metadata": {
    "execution": {
     "iopub.execute_input": "2021-02-02T08:31:40.651631Z",
     "iopub.status.busy": "2021-02-02T08:31:40.650860Z",
     "iopub.status.idle": "2021-02-02T08:31:40.696977Z",
     "shell.execute_reply": "2021-02-02T08:31:40.696384Z"
    },
    "papermill": {
     "duration": 0.070583,
     "end_time": "2021-02-02T08:31:40.697108",
     "exception": false,
     "start_time": "2021-02-02T08:31:40.626525",
     "status": "completed"
    },
    "scrolled": true,
    "tags": []
   },
   "outputs": [
    {
     "data": {
      "text/html": [
       "<div>\n",
       "<style scoped>\n",
       "    .dataframe tbody tr th:only-of-type {\n",
       "        vertical-align: middle;\n",
       "    }\n",
       "\n",
       "    .dataframe tbody tr th {\n",
       "        vertical-align: top;\n",
       "    }\n",
       "\n",
       "    .dataframe thead th {\n",
       "        text-align: right;\n",
       "    }\n",
       "</style>\n",
       "<table border=\"1\" class=\"dataframe\">\n",
       "  <thead>\n",
       "    <tr style=\"text-align: right;\">\n",
       "      <th></th>\n",
       "      <th>Unnamed: 0</th>\n",
       "      <th>CRIM</th>\n",
       "      <th>ZN</th>\n",
       "      <th>INDUS</th>\n",
       "      <th>CHAS</th>\n",
       "      <th>NOX</th>\n",
       "      <th>RM</th>\n",
       "      <th>AGE</th>\n",
       "      <th>DIS</th>\n",
       "      <th>RAD</th>\n",
       "      <th>TAX</th>\n",
       "      <th>PTRATIO</th>\n",
       "      <th>LSTAT</th>\n",
       "      <th>MEDV</th>\n",
       "    </tr>\n",
       "  </thead>\n",
       "  <tbody>\n",
       "    <tr>\n",
       "      <th>count</th>\n",
       "      <td>506.000000</td>\n",
       "      <td>506.000000</td>\n",
       "      <td>506.000000</td>\n",
       "      <td>506.000000</td>\n",
       "      <td>506.000000</td>\n",
       "      <td>506.000000</td>\n",
       "      <td>506.000000</td>\n",
       "      <td>506.000000</td>\n",
       "      <td>506.000000</td>\n",
       "      <td>506.000000</td>\n",
       "      <td>506.000000</td>\n",
       "      <td>506.000000</td>\n",
       "      <td>506.000000</td>\n",
       "      <td>506.000000</td>\n",
       "    </tr>\n",
       "    <tr>\n",
       "      <th>mean</th>\n",
       "      <td>252.500000</td>\n",
       "      <td>3.613524</td>\n",
       "      <td>11.363636</td>\n",
       "      <td>11.136779</td>\n",
       "      <td>0.069170</td>\n",
       "      <td>0.554695</td>\n",
       "      <td>6.284634</td>\n",
       "      <td>68.574901</td>\n",
       "      <td>3.795043</td>\n",
       "      <td>9.549407</td>\n",
       "      <td>408.237154</td>\n",
       "      <td>18.455534</td>\n",
       "      <td>12.653063</td>\n",
       "      <td>22.532806</td>\n",
       "    </tr>\n",
       "    <tr>\n",
       "      <th>std</th>\n",
       "      <td>146.213884</td>\n",
       "      <td>8.601545</td>\n",
       "      <td>23.322453</td>\n",
       "      <td>6.860353</td>\n",
       "      <td>0.253994</td>\n",
       "      <td>0.115878</td>\n",
       "      <td>0.702617</td>\n",
       "      <td>28.148861</td>\n",
       "      <td>2.105710</td>\n",
       "      <td>8.707259</td>\n",
       "      <td>168.537116</td>\n",
       "      <td>2.164946</td>\n",
       "      <td>7.141062</td>\n",
       "      <td>9.197104</td>\n",
       "    </tr>\n",
       "    <tr>\n",
       "      <th>min</th>\n",
       "      <td>0.000000</td>\n",
       "      <td>0.006320</td>\n",
       "      <td>0.000000</td>\n",
       "      <td>0.460000</td>\n",
       "      <td>0.000000</td>\n",
       "      <td>0.385000</td>\n",
       "      <td>3.561000</td>\n",
       "      <td>2.900000</td>\n",
       "      <td>1.129600</td>\n",
       "      <td>1.000000</td>\n",
       "      <td>187.000000</td>\n",
       "      <td>12.600000</td>\n",
       "      <td>1.730000</td>\n",
       "      <td>5.000000</td>\n",
       "    </tr>\n",
       "    <tr>\n",
       "      <th>25%</th>\n",
       "      <td>126.250000</td>\n",
       "      <td>0.082045</td>\n",
       "      <td>0.000000</td>\n",
       "      <td>5.190000</td>\n",
       "      <td>0.000000</td>\n",
       "      <td>0.449000</td>\n",
       "      <td>5.885500</td>\n",
       "      <td>45.025000</td>\n",
       "      <td>2.100175</td>\n",
       "      <td>4.000000</td>\n",
       "      <td>279.000000</td>\n",
       "      <td>17.400000</td>\n",
       "      <td>6.950000</td>\n",
       "      <td>17.025000</td>\n",
       "    </tr>\n",
       "    <tr>\n",
       "      <th>50%</th>\n",
       "      <td>252.500000</td>\n",
       "      <td>0.256510</td>\n",
       "      <td>0.000000</td>\n",
       "      <td>9.690000</td>\n",
       "      <td>0.000000</td>\n",
       "      <td>0.538000</td>\n",
       "      <td>6.208500</td>\n",
       "      <td>77.500000</td>\n",
       "      <td>3.207450</td>\n",
       "      <td>5.000000</td>\n",
       "      <td>330.000000</td>\n",
       "      <td>19.050000</td>\n",
       "      <td>11.360000</td>\n",
       "      <td>21.200000</td>\n",
       "    </tr>\n",
       "    <tr>\n",
       "      <th>75%</th>\n",
       "      <td>378.750000</td>\n",
       "      <td>3.677083</td>\n",
       "      <td>12.500000</td>\n",
       "      <td>18.100000</td>\n",
       "      <td>0.000000</td>\n",
       "      <td>0.624000</td>\n",
       "      <td>6.623500</td>\n",
       "      <td>94.075000</td>\n",
       "      <td>5.188425</td>\n",
       "      <td>24.000000</td>\n",
       "      <td>666.000000</td>\n",
       "      <td>20.200000</td>\n",
       "      <td>16.955000</td>\n",
       "      <td>25.000000</td>\n",
       "    </tr>\n",
       "    <tr>\n",
       "      <th>max</th>\n",
       "      <td>505.000000</td>\n",
       "      <td>88.976200</td>\n",
       "      <td>100.000000</td>\n",
       "      <td>27.740000</td>\n",
       "      <td>1.000000</td>\n",
       "      <td>0.871000</td>\n",
       "      <td>8.780000</td>\n",
       "      <td>100.000000</td>\n",
       "      <td>12.126500</td>\n",
       "      <td>24.000000</td>\n",
       "      <td>711.000000</td>\n",
       "      <td>22.000000</td>\n",
       "      <td>37.970000</td>\n",
       "      <td>50.000000</td>\n",
       "    </tr>\n",
       "  </tbody>\n",
       "</table>\n",
       "</div>"
      ],
      "text/plain": [
       "       Unnamed: 0        CRIM          ZN       INDUS        CHAS         NOX  \\\n",
       "count  506.000000  506.000000  506.000000  506.000000  506.000000  506.000000   \n",
       "mean   252.500000    3.613524   11.363636   11.136779    0.069170    0.554695   \n",
       "std    146.213884    8.601545   23.322453    6.860353    0.253994    0.115878   \n",
       "min      0.000000    0.006320    0.000000    0.460000    0.000000    0.385000   \n",
       "25%    126.250000    0.082045    0.000000    5.190000    0.000000    0.449000   \n",
       "50%    252.500000    0.256510    0.000000    9.690000    0.000000    0.538000   \n",
       "75%    378.750000    3.677083   12.500000   18.100000    0.000000    0.624000   \n",
       "max    505.000000   88.976200  100.000000   27.740000    1.000000    0.871000   \n",
       "\n",
       "               RM         AGE         DIS         RAD         TAX     PTRATIO  \\\n",
       "count  506.000000  506.000000  506.000000  506.000000  506.000000  506.000000   \n",
       "mean     6.284634   68.574901    3.795043    9.549407  408.237154   18.455534   \n",
       "std      0.702617   28.148861    2.105710    8.707259  168.537116    2.164946   \n",
       "min      3.561000    2.900000    1.129600    1.000000  187.000000   12.600000   \n",
       "25%      5.885500   45.025000    2.100175    4.000000  279.000000   17.400000   \n",
       "50%      6.208500   77.500000    3.207450    5.000000  330.000000   19.050000   \n",
       "75%      6.623500   94.075000    5.188425   24.000000  666.000000   20.200000   \n",
       "max      8.780000  100.000000   12.126500   24.000000  711.000000   22.000000   \n",
       "\n",
       "            LSTAT        MEDV  \n",
       "count  506.000000  506.000000  \n",
       "mean    12.653063   22.532806  \n",
       "std      7.141062    9.197104  \n",
       "min      1.730000    5.000000  \n",
       "25%      6.950000   17.025000  \n",
       "50%     11.360000   21.200000  \n",
       "75%     16.955000   25.000000  \n",
       "max     37.970000   50.000000  "
      ]
     },
     "execution_count": 4,
     "metadata": {},
     "output_type": "execute_result"
    }
   ],
   "source": [
    "# Provide the Summary Statistics of the Dataset\n",
    "\n",
    "boston_df.describe(include = \"all\")"
   ]
  },
  {
   "cell_type": "code",
   "execution_count": 5,
   "metadata": {
    "execution": {
     "iopub.execute_input": "2021-02-02T08:31:40.737240Z",
     "iopub.status.busy": "2021-02-02T08:31:40.736153Z",
     "iopub.status.idle": "2021-02-02T08:31:40.742386Z",
     "shell.execute_reply": "2021-02-02T08:31:40.743020Z"
    },
    "papermill": {
     "duration": 0.0281,
     "end_time": "2021-02-02T08:31:40.743178",
     "exception": false,
     "start_time": "2021-02-02T08:31:40.715078",
     "status": "completed"
    },
    "tags": []
   },
   "outputs": [
    {
     "data": {
      "text/plain": [
       "Index(['Unnamed: 0', 'CRIM', 'ZN', 'INDUS', 'CHAS', 'NOX', 'RM', 'AGE', 'DIS',\n",
       "       'RAD', 'TAX', 'PTRATIO', 'LSTAT', 'MEDV'],\n",
       "      dtype='object')"
      ]
     },
     "execution_count": 5,
     "metadata": {},
     "output_type": "execute_result"
    }
   ],
   "source": [
    "# List the columns of the Dataset\n",
    "\n",
    "boston_df.columns"
   ]
  },
  {
   "cell_type": "code",
   "execution_count": 6,
   "metadata": {
    "execution": {
     "iopub.execute_input": "2021-02-02T08:31:40.802821Z",
     "iopub.status.busy": "2021-02-02T08:31:40.802239Z",
     "iopub.status.idle": "2021-02-02T08:31:40.893378Z",
     "shell.execute_reply": "2021-02-02T08:31:40.892727Z"
    },
    "papermill": {
     "duration": 0.131847,
     "end_time": "2021-02-02T08:31:40.893511",
     "exception": false,
     "start_time": "2021-02-02T08:31:40.761664",
     "status": "completed"
    },
    "tags": []
   },
   "outputs": [
    {
     "data": {
      "text/plain": [
       "[Text(0, 0.5, \"Median value of owner-occupied homes in $1000's\"),\n",
       " Text(0.5, 0, 'Boxplot'),\n",
       " Text(0.5, 1.0, 'Boxplot for Median value of owner-occupied homes')]"
      ]
     },
     "execution_count": 6,
     "metadata": {},
     "output_type": "execute_result"
    },
    {
     "data": {
      "image/png": "[encoded data removed]",
      "text/plain": [
       "<Figure size 432x288 with 1 Axes>"
      ]
     },
     "metadata": {
      "needs_background": "light"
     },
     "output_type": "display_data"
    }
   ],
   "source": [
    "# Display a Boxplot for the \"Median value of owner-occupied homes in $1000's\" column.\n",
    "\n",
    "box = sns.boxplot(y = 'MEDV', data = boston_df)\n",
    "box.set(ylabel = \"Median value of owner-occupied homes in $1000's\"\n",
    "        , xlabel = \"Boxplot\"\n",
    "        , title = \"Boxplot for Median value of owner-occupied homes\")"
   ]
  },
  {
   "cell_type": "markdown",
   "metadata": {
    "papermill": {
     "duration": 0.018886,
     "end_time": "2021-02-02T08:31:40.932139",
     "exception": false,
     "start_time": "2021-02-02T08:31:40.913253",
     "status": "completed"
    },
    "tags": []
   },
   "source": [
    "EXPLANATION - The Boxplot shown here corresponds to Median value of owner-occupied homes in $1000's and we can see that there are various outliers below the first quartile. The Median as per the BoxPlot is shown in the plot as approximately 21 or 22."
   ]
  },
  {
   "cell_type": "code",
   "execution_count": 7,
   "metadata": {
    "execution": {
     "iopub.execute_input": "2021-02-02T08:31:40.974046Z",
     "iopub.status.busy": "2021-02-02T08:31:40.973459Z",
     "iopub.status.idle": "2021-02-02T08:31:41.194988Z",
     "shell.execute_reply": "2021-02-02T08:31:41.194471Z"
    },
    "papermill": {
     "duration": 0.243328,
     "end_time": "2021-02-02T08:31:41.195128",
     "exception": false,
     "start_time": "2021-02-02T08:31:40.951800",
     "status": "completed"
    },
    "tags": []
   },
   "outputs": [
    {
     "data": {
      "text/plain": [
       "[Text(0.5, 0, 'Charles River dummy variable (1 if tract bounds river; 0 otherwise)'),\n",
       " Text(0, 0.5, 'Frequency for Charles river variable'),\n",
       " Text(0.5, 1.0, 'Histogram for the Charles river variable')]"
      ]
     },
     "execution_count": 7,
     "metadata": {},
     "output_type": "execute_result"
    },
    {
     "data": {
      "image/png": "[encoded data removed]",
      "text/plain": [
       "<Figure size 432x288 with 1 Axes>"
      ]
     },
     "metadata": {
      "needs_background": "light"
     },
     "output_type": "display_data"
    }
   ],
   "source": [
    "# Display a Histogram for the Charles River dummy variable which is a Dummy Variable.\n",
    "\n",
    "distplot = sns.distplot(boston_df['CHAS'])\n",
    "distplot.set(xlabel = \"Charles River dummy variable (1 if tract bounds river; 0 otherwise)\"\n",
    "             ,ylabel = \"Frequency for Charles river variable\"\n",
    "            , title = \"Histogram for the Charles river variable\")"
   ]
  },
  {
   "cell_type": "markdown",
   "metadata": {
    "papermill": {
     "duration": 0.020322,
     "end_time": "2021-02-02T08:31:41.236367",
     "exception": false,
     "start_time": "2021-02-02T08:31:41.216045",
     "status": "completed"
    },
    "tags": []
   },
   "source": [
    "EXPLANATION - The Histogram shows the Frequency Distribution for Charles River dummy variable where (1 if tract bounds river; 0 otherwise)"
   ]
  },
  {
   "cell_type": "code",
   "execution_count": 8,
   "metadata": {
    "execution": {
     "iopub.execute_input": "2021-02-02T08:31:41.303583Z",
     "iopub.status.busy": "2021-02-02T08:31:41.291806Z",
     "iopub.status.idle": "2021-02-02T08:31:41.438663Z",
     "shell.execute_reply": "2021-02-02T08:31:41.438185Z"
    },
    "papermill": {
     "duration": 0.181423,
     "end_time": "2021-02-02T08:31:41.438803",
     "exception": false,
     "start_time": "2021-02-02T08:31:41.257380",
     "status": "completed"
    },
    "tags": []
   },
   "outputs": [
    {
     "data": {
      "text/plain": [
       "[Text(0.5, 0, 'Proportion of owner-occupied units built prior to 1940'),\n",
       " Text(0, 0.5, \"Median value of owner-occupied homes in $1000's\"),\n",
       " Text(0.5, 1.0, 'Boxplot for the MEDV variable vs the AGE variable.')]"
      ]
     },
     "execution_count": 8,
     "metadata": {},
     "output_type": "execute_result"
    },
    {
     "data": {
      "image/png": "[encoded data removed]",
      "text/plain": [
       "<Figure size 432x288 with 1 Axes>"
      ]
     },
     "metadata": {
      "needs_background": "light"
     },
     "output_type": "display_data"
    }
   ],
   "source": [
    "# Discretize the AGE column into three groups for analysis.\n",
    "\n",
    "boston_df.loc[boston_df['AGE'] <= 30, 'Age_Group'] = \"35 and younger\"\n",
    "boston_df.loc[(boston_df['AGE'] > 30) & (boston_df['AGE'] < 70), 'Age_Group'] = \"Between 35 and 70\"\n",
    "boston_df.loc[(boston_df['AGE'] >= 70), 'Age_Group'] = \"70 and older\"\n",
    "\n",
    "boxplot = sns.boxplot(x = 'Age_Group', y = 'MEDV', data = boston_df)\n",
    "boxplot.set(xlabel = \"Proportion of owner-occupied units built prior to 1940\"\n",
    "           , ylabel = \"Median value of owner-occupied homes in $1000's\"\n",
    "           , title = \"Boxplot for the MEDV variable vs the AGE variable.\")"
   ]
  },
  {
   "cell_type": "markdown",
   "metadata": {
    "papermill": {
     "duration": 0.021221,
     "end_time": "2021-02-02T08:31:41.481952",
     "exception": false,
     "start_time": "2021-02-02T08:31:41.460731",
     "status": "completed"
    },
    "tags": []
   },
   "source": [
    "EXPLANATION - The Boxplot corresponds to the various groups in the AGE column and there are three groups which are 35 years and younger, Between 35 and 70 years and 70 years and older. The Median for the group \"35 years and younger\" is approximately 25, for \"70 years and older\" the Median is approximately 19 and for \"Between 35 and 70 years\" group the Median is approximately 22."
   ]
  },
  {
   "cell_type": "code",
   "execution_count": 9,
   "metadata": {
    "execution": {
     "iopub.execute_input": "2021-02-02T08:31:41.548037Z",
     "iopub.status.busy": "2021-02-02T08:31:41.528647Z",
     "iopub.status.idle": "2021-02-02T08:31:41.677648Z",
     "shell.execute_reply": "2021-02-02T08:31:41.677185Z"
    },
    "papermill": {
     "duration": 0.174525,
     "end_time": "2021-02-02T08:31:41.677783",
     "exception": false,
     "start_time": "2021-02-02T08:31:41.503258",
     "status": "completed"
    },
    "tags": []
   },
   "outputs": [
    {
     "data": {
      "text/plain": [
       "[Text(0, 0.5, 'Nitric Oxides concentration (parts per 10 million)'),\n",
       " Text(0.5, 0, 'Proportion of non-retail business acres per town.'),\n",
       " Text(0.5, 1.0, 'Scatter Plot between NOX and INDUS')]"
      ]
     },
     "execution_count": 9,
     "metadata": {},
     "output_type": "execute_result"
    },
    {
     "data": {
      "image/png": "[encoded data removed]",
      "text/plain": [
       "<Figure size 432x288 with 1 Axes>"
      ]
     },
     "metadata": {
      "needs_background": "light"
     },
     "output_type": "display_data"
    }
   ],
   "source": [
    "# ScatterPlot for correlation between the INDUS and NOX column.\n",
    "\n",
    "scatter = sns.scatterplot(x = 'INDUS', y = 'NOX', data = boston_df)\n",
    "scatter.set(ylabel = \"Nitric Oxides concentration (parts per 10 million)\"\n",
    "            , xlabel = \"Proportion of non-retail business acres per town.\"\n",
    "           , title = \"Scatter Plot between NOX and INDUS\")"
   ]
  },
  {
   "cell_type": "markdown",
   "metadata": {
    "papermill": {
     "duration": 0.023274,
     "end_time": "2021-02-02T08:31:41.723988",
     "exception": false,
     "start_time": "2021-02-02T08:31:41.700714",
     "status": "completed"
    },
    "tags": []
   },
   "source": [
    "EXPLANATION - The Scatter Plot shows that there is a high correlation or positive correlation between the Nitric Oxides concentration (parts per 10 million) and Proportion of non-retail business acres per town as there is a near linear relationship between both of them."
   ]
  },
  {
   "cell_type": "code",
   "execution_count": 10,
   "metadata": {
    "execution": {
     "iopub.execute_input": "2021-02-02T08:31:41.785719Z",
     "iopub.status.busy": "2021-02-02T08:31:41.784807Z",
     "iopub.status.idle": "2021-02-02T08:31:41.999856Z",
     "shell.execute_reply": "2021-02-02T08:31:41.999313Z"
    },
    "papermill": {
     "duration": 0.251206,
     "end_time": "2021-02-02T08:31:41.999996",
     "exception": false,
     "start_time": "2021-02-02T08:31:41.748790",
     "status": "completed"
    },
    "tags": []
   },
   "outputs": [
    {
     "data": {
      "text/plain": [
       "[Text(0.5, 0, 'Pupil-Teacher ratio by town'),\n",
       " Text(0, 0.5, 'Frequency of Pupil-Teacher ratio by town'),\n",
       " Text(0.5, 1.0, 'Histogram for the pupil to teacher ratio variable')]"
      ]
     },
     "execution_count": 10,
     "metadata": {},
     "output_type": "execute_result"
    },
    {
     "data": {
      "image/png": "[encoded data removed]",
      "text/plain": [
       "<Figure size 432x288 with 1 Axes>"
      ]
     },
     "metadata": {
      "needs_background": "light"
     },
     "output_type": "display_data"
    }
   ],
   "source": [
    "# Display a Histogram for the PTRATIO column.\n",
    "\n",
    "histplot = sns.distplot(boston_df['PTRATIO'])\n",
    "histplot.set(xlabel = \"Pupil-Teacher ratio by town\"\n",
    "             , ylabel = \"Frequency of Pupil-Teacher ratio by town\"\n",
    "            , title = \"Histogram for the pupil to teacher ratio variable\")"
   ]
  },
  {
   "cell_type": "markdown",
   "metadata": {
    "papermill": {
     "duration": 0.024313,
     "end_time": "2021-02-02T08:31:42.048801",
     "exception": false,
     "start_time": "2021-02-02T08:31:42.024488",
     "status": "completed"
    },
    "tags": []
   },
   "source": [
    "EXPLANTION - The Histogram mentioned above corresponds to the Frequency Distribution of Pupil-Teacher ratio by town. The highest corresponds to the 20 - 22 bin group. We can also see that the distribution is skewed to the left as the tail of the histogram is towards the 12 on the x-axis. This is called as the Negative-skewed Distribution."
   ]
  },
  {
   "cell_type": "markdown",
   "metadata": {
    "papermill": {
     "duration": 0.023276,
     "end_time": "2021-02-02T08:31:42.095726",
     "exception": false,
     "start_time": "2021-02-02T08:31:42.072450",
     "status": "completed"
    },
    "tags": []
   },
   "source": [
    "### T-Test: Using the Boston Housing Data We need to check Is there a significant difference in median value of houses bounded by the Charles river or not? \n",
    "\n"
   ]
  },
  {
   "cell_type": "markdown",
   "metadata": {
    "papermill": {
     "duration": 0.023768,
     "end_time": "2021-02-02T08:31:42.143035",
     "exception": false,
     "start_time": "2021-02-02T08:31:42.119267",
     "status": "completed"
    },
    "tags": []
   },
   "source": [
    "ASSUMPTIONS - \n",
    "\n",
    "We will be using the t-test for independent samples. For the independent t-test, the following assumptions must be met.\n",
    "\n",
    "-   One independent, categorical variable with two levels or group\n",
    "-   One dependent continuous variable\n",
    "-   Independence of the observations. Each subject should belong to only one group. There is no relationship between the observations in each group.\n",
    "-   The dependent variable must follow a normal distribution\n",
    "-   Assumption of homogeneity of variance\n"
   ]
  },
  {
   "cell_type": "markdown",
   "metadata": {
    "papermill": {
     "duration": 0.023556,
     "end_time": "2021-02-02T08:31:42.190627",
     "exception": false,
     "start_time": "2021-02-02T08:31:42.167071",
     "status": "completed"
    },
    "tags": []
   },
   "source": [
    "State the hypothesis\n",
    "\n",
    "-   $H_0: µ_1 = µ_2$ (\"there is no difference in median value of houses bounded by the Charles river\")\n",
    "-   $H_1: µ_1 ≠ µ_2$ (\"there is a difference in median value of houses bounded by the Charles river\")"
   ]
  },
  {
   "cell_type": "markdown",
   "metadata": {
    "papermill": {
     "duration": 0.023324,
     "end_time": "2021-02-02T08:31:42.237715",
     "exception": false,
     "start_time": "2021-02-02T08:31:42.214391",
     "status": "completed"
    },
    "tags": []
   },
   "source": [
    "We can use the Levene's Test in Python to check test significance\n"
   ]
  },
  {
   "cell_type": "code",
   "execution_count": 11,
   "metadata": {
    "execution": {
     "iopub.execute_input": "2021-02-02T08:31:42.292206Z",
     "iopub.status.busy": "2021-02-02T08:31:42.291432Z",
     "iopub.status.idle": "2021-02-02T08:31:42.294419Z",
     "shell.execute_reply": "2021-02-02T08:31:42.294871Z"
    },
    "papermill": {
     "duration": 0.033235,
     "end_time": "2021-02-02T08:31:42.295023",
     "exception": false,
     "start_time": "2021-02-02T08:31:42.261788",
     "status": "completed"
    },
    "tags": []
   },
   "outputs": [
    {
     "data": {
      "text/plain": [
       "LeveneResult(statistic=532.6811164157676, pvalue=5.40253511973145e-95)"
      ]
     },
     "execution_count": 11,
     "metadata": {},
     "output_type": "execute_result"
    }
   ],
   "source": [
    "scipy.stats.levene(boston_df['MEDV'], boston_df['CHAS'], center = 'mean')"
   ]
  },
  {
   "cell_type": "markdown",
   "metadata": {
    "papermill": {
     "duration": 0.024088,
     "end_time": "2021-02-02T08:31:42.343825",
     "exception": false,
     "start_time": "2021-02-02T08:31:42.319737",
     "status": "completed"
    },
    "tags": []
   },
   "source": [
    "Use the <code>ttest_ind</code> from the <code>scipy_stats</code> library"
   ]
  },
  {
   "cell_type": "code",
   "execution_count": 12,
   "metadata": {
    "execution": {
     "iopub.execute_input": "2021-02-02T08:31:42.395888Z",
     "iopub.status.busy": "2021-02-02T08:31:42.395310Z",
     "iopub.status.idle": "2021-02-02T08:31:42.403441Z",
     "shell.execute_reply": "2021-02-02T08:31:42.402907Z"
    },
    "papermill": {
     "duration": 0.035177,
     "end_time": "2021-02-02T08:31:42.403585",
     "exception": false,
     "start_time": "2021-02-02T08:31:42.368408",
     "status": "completed"
    },
    "tags": []
   },
   "outputs": [
    {
     "data": {
      "text/plain": [
       "Ttest_indResult(statistic=54.9210289745203, pvalue=1.4651540072350996e-305)"
      ]
     },
     "execution_count": 12,
     "metadata": {},
     "output_type": "execute_result"
    }
   ],
   "source": [
    "scipy.stats.ttest_ind(boston_df['MEDV'], boston_df['CHAS'])"
   ]
  },
  {
   "cell_type": "markdown",
   "metadata": {
    "papermill": {
     "duration": 0.024712,
     "end_time": "2021-02-02T08:31:42.452750",
     "exception": false,
     "start_time": "2021-02-02T08:31:42.428038",
     "status": "completed"
    },
    "tags": []
   },
   "source": [
    "**CONCLUSION:** Since the p-value is less than alpha value 0.05, we reject the null hypothesis as there is enough proof that there is a statistical difference in in median value of houses bounded by the Charles river"
   ]
  },
  {
   "cell_type": "markdown",
   "metadata": {
    "papermill": {
     "duration": 0.024474,
     "end_time": "2021-02-02T08:31:42.502395",
     "exception": false,
     "start_time": "2021-02-02T08:31:42.477921",
     "status": "completed"
    },
    "tags": []
   },
   "source": [
    "### ANOVA: Using the Boston Housing data set, Is there a difference in Median values of houses (MEDV) for each proportion of owner occupied units built prior to 1940 (AGE)?"
   ]
  },
  {
   "cell_type": "markdown",
   "metadata": {
    "papermill": {
     "duration": 0.024574,
     "end_time": "2021-02-02T08:31:42.551893",
     "exception": false,
     "start_time": "2021-02-02T08:31:42.527319",
     "status": "completed"
    },
    "tags": []
   },
   "source": [
    "First, we group the data into categories as the one-way ANOVA can't work with continuous variable.\n",
    "\n",
    "-   35 years and younger\n",
    "-   Between 35 and 70 years\n",
    "-   70 years and older\n"
   ]
  },
  {
   "cell_type": "code",
   "execution_count": 13,
   "metadata": {
    "execution": {
     "iopub.execute_input": "2021-02-02T08:31:42.610714Z",
     "iopub.status.busy": "2021-02-02T08:31:42.609812Z",
     "iopub.status.idle": "2021-02-02T08:31:42.613014Z",
     "shell.execute_reply": "2021-02-02T08:31:42.612447Z"
    },
    "papermill": {
     "duration": 0.036398,
     "end_time": "2021-02-02T08:31:42.613142",
     "exception": false,
     "start_time": "2021-02-02T08:31:42.576744",
     "status": "completed"
    },
    "tags": []
   },
   "outputs": [],
   "source": [
    "boston_df.loc[boston_df['AGE'] <= 30, 'Age_Group'] = \"35 and younger\"\n",
    "boston_df.loc[(boston_df['AGE'] > 30) & (boston_df['AGE'] < 70), 'Age_Group'] = \"Between 35 and 70\"\n",
    "boston_df.loc[(boston_df['AGE'] >= 70), 'Age_Group'] = \"70 and older\""
   ]
  },
  {
   "cell_type": "markdown",
   "metadata": {
    "papermill": {
     "duration": 0.024351,
     "end_time": "2021-02-02T08:31:42.662404",
     "exception": false,
     "start_time": "2021-02-02T08:31:42.638053",
     "status": "completed"
    },
    "tags": []
   },
   "source": [
    "State the hypothesis\n",
    "\n",
    "-   $H_0: µ_1 = µ_2 = µ_3$ (the three population means are equal)\n",
    "-   $H_1:$ At least one of the means differ\n"
   ]
  },
  {
   "cell_type": "markdown",
   "metadata": {
    "papermill": {
     "duration": 0.024407,
     "end_time": "2021-02-02T08:31:42.712739",
     "exception": false,
     "start_time": "2021-02-02T08:31:42.688332",
     "status": "completed"
    },
    "tags": []
   },
   "source": [
    "Test for equality of variance\n"
   ]
  },
  {
   "cell_type": "code",
   "execution_count": 14,
   "metadata": {
    "execution": {
     "iopub.execute_input": "2021-02-02T08:31:42.771586Z",
     "iopub.status.busy": "2021-02-02T08:31:42.770998Z",
     "iopub.status.idle": "2021-02-02T08:31:42.774426Z",
     "shell.execute_reply": "2021-02-02T08:31:42.773951Z"
    },
    "papermill": {
     "duration": 0.036702,
     "end_time": "2021-02-02T08:31:42.774552",
     "exception": false,
     "start_time": "2021-02-02T08:31:42.737850",
     "status": "completed"
    },
    "tags": []
   },
   "outputs": [
    {
     "data": {
      "text/plain": [
       "LeveneResult(statistic=1.9263167703439688, pvalue=0.14675700390882251)"
      ]
     },
     "execution_count": 14,
     "metadata": {},
     "output_type": "execute_result"
    }
   ],
   "source": [
    "scipy.stats.levene(boston_df[boston_df['Age_Group'] == \"35 and younger\"]['MEDV'],\n",
    "                   boston_df[boston_df['Age_Group'] == \"Between 35 and 70\"]['MEDV'], \n",
    "                   boston_df[boston_df['Age_Group'] == \"70 and older\"]['MEDV'], \n",
    "                   center='mean')"
   ]
  },
  {
   "cell_type": "markdown",
   "metadata": {
    "papermill": {
     "duration": 0.024901,
     "end_time": "2021-02-02T08:31:42.825461",
     "exception": false,
     "start_time": "2021-02-02T08:31:42.800560",
     "status": "completed"
    },
    "tags": []
   },
   "source": [
    "First, separate the three samples (one for each category) into a variable each.\n"
   ]
  },
  {
   "cell_type": "code",
   "execution_count": 15,
   "metadata": {
    "execution": {
     "iopub.execute_input": "2021-02-02T08:31:42.879711Z",
     "iopub.status.busy": "2021-02-02T08:31:42.879079Z",
     "iopub.status.idle": "2021-02-02T08:31:42.885297Z",
     "shell.execute_reply": "2021-02-02T08:31:42.885836Z"
    },
    "papermill": {
     "duration": 0.035556,
     "end_time": "2021-02-02T08:31:42.886011",
     "exception": false,
     "start_time": "2021-02-02T08:31:42.850455",
     "status": "completed"
    },
    "tags": []
   },
   "outputs": [],
   "source": [
    "thirtyfive_lower = boston_df[boston_df['Age_Group'] == \"35 and younger\"]['MEDV']\n",
    "thirtyfive_seventy = boston_df[boston_df['Age_Group'] == \"Between 35 and 70\"]['MEDV']\n",
    "seventy_older = boston_df[boston_df['Age_Group'] == \"70 and older\"]['MEDV']"
   ]
  },
  {
   "cell_type": "markdown",
   "metadata": {
    "papermill": {
     "duration": 0.025588,
     "end_time": "2021-02-02T08:31:42.938217",
     "exception": false,
     "start_time": "2021-02-02T08:31:42.912629",
     "status": "completed"
    },
    "tags": []
   },
   "source": [
    "Now, run a one-way ANOVA."
   ]
  },
  {
   "cell_type": "code",
   "execution_count": 16,
   "metadata": {
    "execution": {
     "iopub.execute_input": "2021-02-02T08:31:42.993098Z",
     "iopub.status.busy": "2021-02-02T08:31:42.992385Z",
     "iopub.status.idle": "2021-02-02T08:31:42.997410Z",
     "shell.execute_reply": "2021-02-02T08:31:42.997876Z"
    },
    "papermill": {
     "duration": 0.033409,
     "end_time": "2021-02-02T08:31:42.998032",
     "exception": false,
     "start_time": "2021-02-02T08:31:42.964623",
     "status": "completed"
    },
    "tags": []
   },
   "outputs": [
    {
     "data": {
      "text/plain": [
       "F_onewayResult(statistic=34.249179272635395, pvalue=1.135217093487225e-14)"
      ]
     },
     "execution_count": 16,
     "metadata": {},
     "output_type": "execute_result"
    }
   ],
   "source": [
    "scipy.stats.f_oneway(thirtyfive_lower, thirtyfive_seventy, seventy_older)"
   ]
  },
  {
   "cell_type": "markdown",
   "metadata": {
    "papermill": {
     "duration": 0.025437,
     "end_time": "2021-02-02T08:31:43.048996",
     "exception": false,
     "start_time": "2021-02-02T08:31:43.023559",
     "status": "completed"
    },
    "tags": []
   },
   "source": [
    "**CONCLUSION:** Since the p-value is less than alpha value 0.05, we reject the null hypothesis as there is enough proof that there is a statistical difference in Median values of houses (MEDV) for each proportion of owner occupied units built prior to 1940 (AGE)."
   ]
  },
  {
   "cell_type": "markdown",
   "metadata": {
    "papermill": {
     "duration": 0.028905,
     "end_time": "2021-02-02T08:31:43.103534",
     "exception": false,
     "start_time": "2021-02-02T08:31:43.074629",
     "status": "completed"
    },
    "tags": []
   },
   "source": [
    "### Correlation: Using the Boston Housing dataset, Can we conclude that there is no relationship between Nitric oxide concentrations and proportion of non-retail business acres per town? "
   ]
  },
  {
   "cell_type": "markdown",
   "metadata": {
    "papermill": {
     "duration": 0.025623,
     "end_time": "2021-02-02T08:31:43.156096",
     "exception": false,
     "start_time": "2021-02-02T08:31:43.130473",
     "status": "completed"
    },
    "tags": []
   },
   "source": [
    "State the hypothesis:\n",
    "\n",
    "-   $H_0:$ There is no relationship between Nitric oxide concentrations and proportion of non-retail business acres per town.\n",
    "-   $H_1:$ There is a relationship between Nitric oxide concentrations and proportion of non-retail business acres per town.\n"
   ]
  },
  {
   "cell_type": "code",
   "execution_count": 17,
   "metadata": {
    "execution": {
     "iopub.execute_input": "2021-02-02T08:31:43.210846Z",
     "iopub.status.busy": "2021-02-02T08:31:43.210239Z",
     "iopub.status.idle": "2021-02-02T08:31:43.215181Z",
     "shell.execute_reply": "2021-02-02T08:31:43.215658Z"
    },
    "papermill": {
     "duration": 0.033794,
     "end_time": "2021-02-02T08:31:43.215814",
     "exception": false,
     "start_time": "2021-02-02T08:31:43.182020",
     "status": "completed"
    },
    "tags": []
   },
   "outputs": [
    {
     "data": {
      "text/plain": [
       "(0.7636514469209181, 7.913361061216202e-98)"
      ]
     },
     "execution_count": 17,
     "metadata": {},
     "output_type": "execute_result"
    }
   ],
   "source": [
    "scipy.stats.pearsonr(boston_df['INDUS'], boston_df['NOX'])"
   ]
  },
  {
   "cell_type": "markdown",
   "metadata": {
    "papermill": {
     "duration": 0.028413,
     "end_time": "2021-02-02T08:31:43.270632",
     "exception": false,
     "start_time": "2021-02-02T08:31:43.242219",
     "status": "completed"
    },
    "tags": []
   },
   "source": [
    "**CONCLUSION:** Since the p-value is less than 0.05, we reject the Null hypothesis and conclude that there exists a relationship between Nitric oxide concentrations and proportion of non-retail business acres per town."
   ]
  },
  {
   "cell_type": "markdown",
   "metadata": {
    "papermill": {
     "duration": 0.025767,
     "end_time": "2021-02-02T08:31:43.322533",
     "exception": false,
     "start_time": "2021-02-02T08:31:43.296766",
     "status": "completed"
    },
    "tags": []
   },
   "source": [
    "### Regression with T-test: Using the Boston Housing data set, What is the impact of an additional weighted distance  to the five Boston employment centres on the median value of owner occupied homes?"
   ]
  },
  {
   "cell_type": "markdown",
   "metadata": {
    "papermill": {
     "duration": 0.025765,
     "end_time": "2021-02-02T08:31:43.374235",
     "exception": false,
     "start_time": "2021-02-02T08:31:43.348470",
     "status": "completed"
    },
    "tags": []
   },
   "source": [
    "We will state the null hypothesis:\n",
    "\n",
    "-   $H_0: β1$ = 0 (There is no impact of an additional weighted distance to the five Boston employment centres on the median value of owner occupied homes)\n",
    "-   $H_1: β1$ is not equal to 0 (There is an impact of an additional weighted distance  to the five Boston employment centres on the median value of owner occupied homes)"
   ]
  },
  {
   "cell_type": "code",
   "execution_count": 18,
   "metadata": {
    "execution": {
     "iopub.execute_input": "2021-02-02T08:31:43.429106Z",
     "iopub.status.busy": "2021-02-02T08:31:43.428563Z",
     "iopub.status.idle": "2021-02-02T08:31:43.450501Z",
     "shell.execute_reply": "2021-02-02T08:31:43.449918Z"
    },
    "papermill": {
     "duration": 0.050318,
     "end_time": "2021-02-02T08:31:43.450655",
     "exception": false,
     "start_time": "2021-02-02T08:31:43.400337",
     "status": "completed"
    },
    "tags": []
   },
   "outputs": [
    {
     "data": {
      "text/html": [
       "<table class=\"simpletable\">\n",
       "<caption>OLS Regression Results</caption>\n",
       "<tr>\n",
       "  <th>Dep. Variable:</th>          <td>MEDV</td>       <th>  R-squared:         </th> <td>   0.062</td>\n",
       "</tr>\n",
       "<tr>\n",
       "  <th>Model:</th>                   <td>OLS</td>       <th>  Adj. R-squared:    </th> <td>   0.061</td>\n",
       "</tr>\n",
       "<tr>\n",
       "  <th>Method:</th>             <td>Least Squares</td>  <th>  F-statistic:       </th> <td>   33.58</td>\n",
       "</tr>\n",
       "<tr>\n",
       "  <th>Date:</th>             <td>Tue, 02 Feb 2021</td> <th>  Prob (F-statistic):</th> <td>1.21e-08</td>\n",
       "</tr>\n",
       "<tr>\n",
       "  <th>Time:</th>                 <td>08:31:43</td>     <th>  Log-Likelihood:    </th> <td> -1823.9</td>\n",
       "</tr>\n",
       "<tr>\n",
       "  <th>No. Observations:</th>      <td>   506</td>      <th>  AIC:               </th> <td>   3652.</td>\n",
       "</tr>\n",
       "<tr>\n",
       "  <th>Df Residuals:</th>          <td>   504</td>      <th>  BIC:               </th> <td>   3660.</td>\n",
       "</tr>\n",
       "<tr>\n",
       "  <th>Df Model:</th>              <td>     1</td>      <th>                     </th>     <td> </td>   \n",
       "</tr>\n",
       "<tr>\n",
       "  <th>Covariance Type:</th>      <td>nonrobust</td>    <th>                     </th>     <td> </td>   \n",
       "</tr>\n",
       "</table>\n",
       "<table class=\"simpletable\">\n",
       "<tr>\n",
       "    <td></td>       <th>coef</th>     <th>std err</th>      <th>t</th>      <th>P>|t|</th>  <th>[0.025</th>    <th>0.975]</th>  \n",
       "</tr>\n",
       "<tr>\n",
       "  <th>const</th> <td>   18.3901</td> <td>    0.817</td> <td>   22.499</td> <td> 0.000</td> <td>   16.784</td> <td>   19.996</td>\n",
       "</tr>\n",
       "<tr>\n",
       "  <th>DIS</th>   <td>    1.0916</td> <td>    0.188</td> <td>    5.795</td> <td> 0.000</td> <td>    0.722</td> <td>    1.462</td>\n",
       "</tr>\n",
       "</table>\n",
       "<table class=\"simpletable\">\n",
       "<tr>\n",
       "  <th>Omnibus:</th>       <td>139.779</td> <th>  Durbin-Watson:     </th> <td>   0.570</td>\n",
       "</tr>\n",
       "<tr>\n",
       "  <th>Prob(Omnibus):</th> <td> 0.000</td>  <th>  Jarque-Bera (JB):  </th> <td> 305.104</td>\n",
       "</tr>\n",
       "<tr>\n",
       "  <th>Skew:</th>          <td> 1.466</td>  <th>  Prob(JB):          </th> <td>5.59e-67</td>\n",
       "</tr>\n",
       "<tr>\n",
       "  <th>Kurtosis:</th>      <td> 5.424</td>  <th>  Cond. No.          </th> <td>    9.32</td>\n",
       "</tr>\n",
       "</table><br/><br/>Notes:<br/>[1] Standard Errors assume that the covariance matrix of the errors is correctly specified."
      ],
      "text/plain": [
       "<class 'statsmodels.iolib.summary.Summary'>\n",
       "\"\"\"\n",
       "                            OLS Regression Results                            \n",
       "==============================================================================\n",
       "Dep. Variable:                   MEDV   R-squared:                       0.062\n",
       "Model:                            OLS   Adj. R-squared:                  0.061\n",
       "Method:                 Least Squares   F-statistic:                     33.58\n",
       "Date:                Tue, 02 Feb 2021   Prob (F-statistic):           1.21e-08\n",
       "Time:                        08:31:43   Log-Likelihood:                -1823.9\n",
       "No. Observations:                 506   AIC:                             3652.\n",
       "Df Residuals:                     504   BIC:                             3660.\n",
       "Df Model:                           1                                         \n",
       "Covariance Type:            nonrobust                                         \n",
       "==============================================================================\n",
       "                 coef    std err          t      P>|t|      [0.025      0.975]\n",
       "------------------------------------------------------------------------------\n",
       "const         18.3901      0.817     22.499      0.000      16.784      19.996\n",
       "DIS            1.0916      0.188      5.795      0.000       0.722       1.462\n",
       "==============================================================================\n",
       "Omnibus:                      139.779   Durbin-Watson:                   0.570\n",
       "Prob(Omnibus):                  0.000   Jarque-Bera (JB):              305.104\n",
       "Skew:                           1.466   Prob(JB):                     5.59e-67\n",
       "Kurtosis:                       5.424   Cond. No.                         9.32\n",
       "==============================================================================\n",
       "\n",
       "Notes:\n",
       "[1] Standard Errors assume that the covariance matrix of the errors is correctly specified.\n",
       "\"\"\""
      ]
     },
     "execution_count": 18,
     "metadata": {},
     "output_type": "execute_result"
    }
   ],
   "source": [
    "## X is the input variables (or independent variables)\n",
    "X = boston_df['DIS']\n",
    "\n",
    "## y is the target/dependent variable\n",
    "y = boston_df['MEDV']\n",
    "\n",
    "## add an intercept (beta_0) to our model\n",
    "X = sm.add_constant(X) \n",
    "\n",
    "model = sm.OLS(y, X).fit()\n",
    "predictions = model.predict(X)\n",
    "\n",
    "# Print out the statistics\n",
    "model.summary()"
   ]
  },
  {
   "cell_type": "markdown",
   "metadata": {
    "papermill": {
     "duration": 0.026572,
     "end_time": "2021-02-02T08:31:43.504087",
     "exception": false,
     "start_time": "2021-02-02T08:31:43.477515",
     "status": "completed"
    },
    "tags": []
   },
   "source": [
    "**CONCLUSION:** Like the t-test, the p-value is less than the alpha (α) level = 0.05, so we reject the null hypothesis as there is evidence that there is impact of an additional weighted distance to the five Boston employment centres on the median value of owner occupied homes. The coefficient is positive 0.0572 which also signifies that the impact increases by 0.0572 when there is an additional weighted distance to the five Boston employment centres ."
   ]
  },
  {
   "cell_type": "code",
   "execution_count": null,
   "metadata": {
    "papermill": {
     "duration": 0.025975,
     "end_time": "2021-02-02T08:31:43.556701",
     "exception": false,
     "start_time": "2021-02-02T08:31:43.530726",
     "status": "completed"
    },
    "tags": []
   },
   "outputs": [],
   "source": []
  }
 ],
 "metadata": {
  "kernelspec": {
   "display_name": "Python 3",
   "language": "python",
   "name": "python3"
  },
  "language_info": {
   "codemirror_mode": {
    "name": "ipython",
    "version": 3
   },
   "file_extension": ".py",
   "mimetype": "text/x-python",
   "name": "python",
   "nbconvert_exporter": "python",
   "pygments_lexer": "ipython3",
   "version": "3.7.9"
  },
  "papermill": {
   "default_parameters": {},
   "duration": 12.850291,
   "end_time": "2021-02-02T08:31:44.193311",
   "environment_variables": {},
   "exception": null,
   "input_path": "__notebook__.ipynb",
   "output_path": "__notebook__.ipynb",
   "parameters": {},
   "start_time": "2021-02-02T08:31:31.343020",
   "version": "2.2.2"
  }
 },
 "nbformat": 4,
 "nbformat_minor": 4
}
